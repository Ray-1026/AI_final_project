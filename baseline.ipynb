{
 "cells": [
  {
   "cell_type": "code",
   "execution_count": 1,
   "metadata": {},
   "outputs": [],
   "source": [
    "import os\n",
    "import cv2\n",
    "import numpy as np\n",
    "import matplotlib.pyplot as plt\n",
    "from tqdm import tqdm\n",
    "from tensorflow import keras, config\n",
    "from keras.models import Sequential\n",
    "from keras.layers import Dense, Flatten, Conv2D, MaxPooling2D\n",
    "from keras.preprocessing.image import ImageDataGenerator"
   ]
  },
  {
   "cell_type": "code",
   "execution_count": 17,
   "metadata": {},
   "outputs": [],
   "source": [
    "def TrainData():\n",
    "    fake_img = r\"archive\\train\\FAKE\"\n",
    "    real_img = r\"archive\\train\\REAL\"\n",
    "    image = []\n",
    "    label = []\n",
    "\n",
    "    random_fake = np.random.choice(os.listdir(fake_img), 40000, replace=False)\n",
    "    random_real = np.random.choice(os.listdir(real_img), 40000, replace=False)\n",
    "\n",
    "    # Set 0 to represent fake, and 1 to represent real\n",
    "    for path in tqdm(random_fake, desc='Fake Training Data'):\n",
    "        data = cv2.imread(os.path.join(fake_img, path))\n",
    "        image.append(data)\n",
    "        label.append(0)\n",
    "\n",
    "    for path in tqdm(random_real, desc='Real Training Data'):\n",
    "        data = cv2.imread(os.path.join(real_img, path))\n",
    "        image.append(data)\n",
    "        label.append(1)\n",
    "\n",
    "    print()\n",
    "    # image augmantation\n",
    "    image = np.array(image).reshape(-1, 32, 32, 3)\n",
    "    label = np.array(label)\n",
    "    gen_image = []\n",
    "    gen_label = []\n",
    "    gen = ImageDataGenerator(\n",
    "        rotation_range=90,\n",
    "        horizontal_flip = True,\n",
    "    )\n",
    "    gen.fit(image)\n",
    "\n",
    "    for i, j in gen.flow(image, label, batch_size=200):\n",
    "        gen_image.append(i)\n",
    "        gen_label.append(j)\n",
    "        if len(gen_image)%50==0:\n",
    "            print(f'{len(gen_image)*200}/80000 augmented data generated.')\n",
    "        if len(gen_image)==400:\n",
    "            print('Data augmentation done')\n",
    "            break\n",
    "    image = np.concatenate(gen_image)\n",
    "    label = np.array(gen_label).flatten()\n",
    "\n",
    "    image = np.array(image).reshape(-1, 32, 32, 3)\n",
    "    label = np.array(label)\n",
    "    image = image/255.0\n",
    "\n",
    "    state = np.random.get_state()\n",
    "    np.random.shuffle(image)\n",
    "    np.random.set_state(state)\n",
    "    np.random.shuffle(label)\n",
    "    print('\\nShuffle training data done.\\n')\n",
    "    print(f'Total training data : {len(image)}')\n",
    "    \n",
    "    return image, label"
   ]
  },
  {
   "cell_type": "code",
   "execution_count": 3,
   "metadata": {},
   "outputs": [],
   "source": [
    "def TestData():\n",
    "    fake_path = r\"archive\\test\\FAKE\"\n",
    "    real_path = r\"archive\\test\\REAL\"\n",
    "    image = []\n",
    "    label = []\n",
    "    # Set 0 to represent fake, and 1 to represent real\n",
    "    for path in tqdm(os.listdir(fake_path), desc='Fake Testing Data'):\n",
    "        data = cv2.imread(os.path.join(fake_path, path))\n",
    "        image.append(data)\n",
    "        label.append(0)\n",
    "    \n",
    "    for path in tqdm(os.listdir(real_path), desc='Real Testing Data'):\n",
    "        data = cv2.imread(os.path.join(real_path, path))\n",
    "        image.append(data)\n",
    "        label.append(1)\n",
    "\n",
    "    image=np.array(image).reshape(-1, 32, 32, 3)\n",
    "    image=image/255\n",
    "    label=np.array(label)\n",
    "\n",
    "    return image, label"
   ]
  },
  {
   "cell_type": "code",
   "execution_count": 30,
   "metadata": {},
   "outputs": [],
   "source": [
    "def CNN():\n",
    "    model = Sequential()\n",
    "    model.add(Conv2D(32, (3, 3), activation='relu', input_shape=(32, 32, 3)))\n",
    "    model.add(MaxPooling2D((2, 2)))\n",
    "\n",
    "    model.add(Conv2D(64, (3, 3), activation='relu'))\n",
    "    model.add(MaxPooling2D((2, 2)))\n",
    "\n",
    "    model.add(Flatten())\n",
    "\n",
    "    model.add(Dense(64, activation='relu'))\n",
    "    model.add(Dense(1, activation='sigmoid'))\n",
    "    \n",
    "    model.compile(optimizer='adam', loss='binary_crossentropy', metrics=['accuracy'])\n",
    "    model.summary()\n",
    "    \n",
    "    return model"
   ]
  },
  {
   "cell_type": "code",
   "execution_count": 19,
   "metadata": {},
   "outputs": [
    {
     "name": "stderr",
     "output_type": "stream",
     "text": [
      "Fake Training Data: 100%|██████████| 40000/40000 [00:16<00:00, 2490.87it/s]\n",
      "Real Training Data: 100%|██████████| 40000/40000 [00:08<00:00, 4620.61it/s]\n"
     ]
    },
    {
     "name": "stdout",
     "output_type": "stream",
     "text": [
      "\n",
      "10000/80000 augmented data generated.\n",
      "20000/80000 augmented data generated.\n",
      "30000/80000 augmented data generated.\n",
      "40000/80000 augmented data generated.\n",
      "50000/80000 augmented data generated.\n",
      "60000/80000 augmented data generated.\n",
      "70000/80000 augmented data generated.\n",
      "80000/80000 augmented data generated.\n",
      "Data augmentation done\n",
      "\n",
      "Shuffle training data done.\n",
      "\n",
      "Total training data : 80000\n"
     ]
    }
   ],
   "source": [
    "train_x, train_y = TrainData()"
   ]
  },
  {
   "cell_type": "code",
   "execution_count": 20,
   "metadata": {},
   "outputs": [
    {
     "name": "stderr",
     "output_type": "stream",
     "text": [
      "Fake Testing Data: 100%|██████████| 10000/10000 [00:54<00:00, 181.93it/s]\n",
      "Real Testing Data: 100%|██████████| 10000/10000 [00:22<00:00, 448.27it/s]\n"
     ]
    }
   ],
   "source": [
    "test_x, test_y = TestData()"
   ]
  },
  {
   "cell_type": "code",
   "execution_count": 7,
   "metadata": {},
   "outputs": [],
   "source": [
    "# \"\"\"\n",
    "# Tensorflow supports running computations on GPU \n",
    "\n",
    "# WARNING : You need to have CUDA, cuDNN, and tensorflow with version lower than 2.11.0, \n",
    "#           if not, DON'T execute this cell.\n",
    "# \"\"\"\n",
    "# physical_devices = config.list_physical_devices('GPU')\n",
    "# config.experimental.set_memory_growth(physical_devices[0], True)\n",
    "# print('Running on GPU available now')"
   ]
  },
  {
   "cell_type": "code",
   "execution_count": 31,
   "metadata": {},
   "outputs": [
    {
     "name": "stdout",
     "output_type": "stream",
     "text": [
      "Model: \"sequential_5\"\n",
      "_________________________________________________________________\n",
      " Layer (type)                Output Shape              Param #   \n",
      "=================================================================\n",
      " conv2d_10 (Conv2D)          (None, 30, 30, 32)        896       \n",
      "                                                                 \n",
      " max_pooling2d_10 (MaxPoolin  (None, 15, 15, 32)       0         \n",
      " g2D)                                                            \n",
      "                                                                 \n",
      " conv2d_11 (Conv2D)          (None, 13, 13, 64)        18496     \n",
      "                                                                 \n",
      " max_pooling2d_11 (MaxPoolin  (None, 6, 6, 64)         0         \n",
      " g2D)                                                            \n",
      "                                                                 \n",
      " flatten_5 (Flatten)         (None, 2304)              0         \n",
      "                                                                 \n",
      " dense_10 (Dense)            (None, 64)                147520    \n",
      "                                                                 \n",
      " dense_11 (Dense)            (None, 1)                 65        \n",
      "                                                                 \n",
      "=================================================================\n",
      "Total params: 166,977\n",
      "Trainable params: 166,977\n",
      "Non-trainable params: 0\n",
      "_________________________________________________________________\n"
     ]
    }
   ],
   "source": [
    "model = CNN()"
   ]
  },
  {
   "cell_type": "code",
   "execution_count": 32,
   "metadata": {},
   "outputs": [
    {
     "name": "stdout",
     "output_type": "stream",
     "text": [
      "400/400 [==============================] - 29s 70ms/step - loss: 0.4718 - accuracy: 0.7704\n",
      "100/100 [==============================] - 2s 17ms/step - loss: 0.4655 - accuracy: 0.7911\n",
      "\n",
      "400/400 [==============================] - 29s 72ms/step - loss: 0.3621 - accuracy: 0.8391\n",
      "100/100 [==============================] - 2s 17ms/step - loss: 0.5327 - accuracy: 0.7778\n",
      "\n",
      "400/400 [==============================] - 28s 70ms/step - loss: 0.3183 - accuracy: 0.8625\n",
      "100/100 [==============================] - 2s 17ms/step - loss: 0.5532 - accuracy: 0.7699\n",
      "\n",
      "400/400 [==============================] - 29s 72ms/step - loss: 0.2889 - accuracy: 0.8769\n",
      "100/100 [==============================] - 2s 17ms/step - loss: 0.4973 - accuracy: 0.7898\n",
      "\n",
      "400/400 [==============================] - 28s 71ms/step - loss: 0.2657 - accuracy: 0.8890\n",
      "100/100 [==============================] - 2s 17ms/step - loss: 0.4734 - accuracy: 0.8106\n",
      "\n",
      "400/400 [==============================] - 29s 71ms/step - loss: 0.2532 - accuracy: 0.8957\n",
      "100/100 [==============================] - 2s 18ms/step - loss: 0.5284 - accuracy: 0.8006\n",
      "\n",
      "400/400 [==============================] - 29s 71ms/step - loss: 0.2396 - accuracy: 0.9017\n",
      "100/100 [==============================] - 2s 17ms/step - loss: 0.5279 - accuracy: 0.7918\n",
      "\n",
      "400/400 [==============================] - 29s 72ms/step - loss: 0.2309 - accuracy: 0.9053\n",
      "100/100 [==============================] - 2s 17ms/step - loss: 0.5783 - accuracy: 0.7814\n",
      "\n",
      "400/400 [==============================] - 29s 71ms/step - loss: 0.2250 - accuracy: 0.9092\n",
      "100/100 [==============================] - 2s 17ms/step - loss: 0.4584 - accuracy: 0.8220\n",
      "\n",
      "400/400 [==============================] - 29s 72ms/step - loss: 0.2148 - accuracy: 0.9133\n",
      "100/100 [==============================] - 2s 18ms/step - loss: 0.4688 - accuracy: 0.8187\n",
      "\n"
     ]
    }
   ],
   "source": [
    "train_ac, train_loss = [], []\n",
    "test_ac, test_loss = [], []\n",
    "\n",
    "for epoch in range(1, 21):\n",
    "    history = model.fit(train_x, train_y, epochs=1, batch_size=200)\n",
    "    loss, ac = model.evaluate(test_x, test_y, batch_size=200)\n",
    "\n",
    "    train_loss.append(history.history['loss'])\n",
    "    train_ac.append(history.history['accuracy'])\n",
    "    test_loss.append(loss)\n",
    "    test_ac.append(ac)\n",
    "    # prediction = model.predict(test_x)\n",
    "    # prediction = [int(np.round(prediction[p])) for p in range(len(prediction))]\n",
    "    # ac2=0\n",
    "    # for i, j in zip(test_y, prediction):\n",
    "    #     if i==j:\n",
    "    #         ac2+=1\n",
    "    # print(ac, ac2/len(prediction), end=' ')\n",
    "    print()"
   ]
  },
  {
   "cell_type": "code",
   "execution_count": 36,
   "metadata": {},
   "outputs": [
    {
     "data": {
      "image/png": "[encoded data removed]",
      "text/plain": [
       "<Figure size 640x480 with 1 Axes>"
      ]
     },
     "metadata": {},
     "output_type": "display_data"
    },
    {
     "data": {
      "image/png": "[encoded data removed]",
      "text/plain": [
       "<Figure size 640x480 with 1 Axes>"
      ]
     },
     "metadata": {},
     "output_type": "display_data"
    }
   ],
   "source": [
    "# Plot the loss and accuracy of training set.\n",
    "plt.plot(train_loss)\n",
    "plt.plot(test_loss)\n",
    "plt.axis([0, 10, 0, 0.7])\n",
    "plt.title('Model Loss')\n",
    "plt.ylabel('Loss')\n",
    "plt.xlabel('Epoch')\n",
    "plt.legend(['train', 'test'], loc='upper right')\n",
    "plt.show()\n",
    "\n",
    "plt.plot(train_ac)\n",
    "plt.plot(test_ac)\n",
    "plt.axis([0, 10, 0, 1])\n",
    "plt.title('Model Accuracy')\n",
    "plt.ylabel('Accuracy')\n",
    "plt.xlabel('Epoch')\n",
    "plt.legend(['train', 'test'], loc='lower right')\n",
    "plt.show()"
   ]
  }
 ],
 "metadata": {
  "kernelspec": {
   "display_name": "Python 3",
   "language": "python",
   "name": "python3"
  },
  "language_info": {
   "codemirror_mode": {
    "name": "ipython",
    "version": 3
   },
   "file_extension": ".py",
   "mimetype": "text/x-python",
   "name": "python",
   "nbconvert_exporter": "python",
   "pygments_lexer": "ipython3",
   "version": "3.11.0"
  },
  "orig_nbformat": 4
 },
 "nbformat": 4,
 "nbformat_minor": 2
}
