{
 "cells": [
  {
   "cell_type": "code",
   "execution_count": 13,
   "metadata": {},
   "outputs": [],
   "source": [
    "import numpy as np\n",
    "import cv2\n",
    "import csv\n",
    "import matplotlib.pyplot as plt\n",
    "import os\n",
    "from tensorflow import keras\n",
    "from keras.models import Sequential\n",
    "from keras.layers import Dense, Flatten, Conv2D, MaxPooling2D"
   ]
  },
  {
   "cell_type": "code",
   "execution_count": 14,
   "metadata": {},
   "outputs": [],
   "source": [
    "path = 'dataset'\n",
    "\n",
    "def Data(path):\n",
    "    train_img = []\n",
    "    train_label = []\n",
    "    test_img = []\n",
    "    test_label = []\n",
    "    img_path = os.path.join(path, 'img')\n",
    "    csv_file = open(os.path.join(path, 'label.csv'))\n",
    "    reader = list(csv.reader(csv_file))\n",
    "    reader = reader[1:]\n",
    "    for i in range(3200):\n",
    "        if int(reader[i][0])<10:\n",
    "            img = cv2.imread(os.path.join(img_path, '000'+reader[i][0]+'.jpg'))\n",
    "        elif int(reader[i][0])<100:\n",
    "            img = cv2.imread(os.path.join(img_path, '00'+reader[i][0]+'.jpg'))\n",
    "        elif int(reader[i][0])<1000:\n",
    "            img = cv2.imread(os.path.join(img_path, '0'+reader[i][0]+'.jpg'))\n",
    "        else:\n",
    "            img = cv2.imread(os.path.join(img_path, reader[i][0]+'.jpg'))\n",
    "        img = cv2.resize(img, dsize=(80, 80))\n",
    "        train_img.append(img)\n",
    "        train_label.append(reader[i][1]=='real')\n",
    "        if (i+1)%200==0:\n",
    "            print('{}/3200 train data preprocessing finished'.format(i+1))\n",
    "    print()\n",
    "\n",
    "    for i in range(3200, 4000):\n",
    "        img = cv2.imread(os.path.join(img_path, reader[i][0]+'.jpg'))\n",
    "        img = cv2.resize(img, dsize=(80, 80))\n",
    "        test_img.append(img)\n",
    "        test_label.append(reader[i][1]=='real')\n",
    "        if (i-3199)%200==0:\n",
    "            print('{}/400 test data preprocessing finished'.format(i-3199))\n",
    "\n",
    "    train_img = np.array(train_img).reshape(-1, 80, 80, 3)\n",
    "    train_img = train_img/255.0\n",
    "    train_label = np.array(train_label)\n",
    "\n",
    "    test_img = np.array(test_img).reshape(-1, 80, 80, 3)\n",
    "    test_img = test_img/255.0\n",
    "    test_label = np.array(test_label)\n",
    "    return train_img, train_label, test_img, test_label\n"
   ]
  },
  {
   "cell_type": "code",
   "execution_count": 15,
   "metadata": {},
   "outputs": [
    {
     "name": "stdout",
     "output_type": "stream",
     "text": [
      "200/3200 train data preprocessing finished\n",
      "400/3200 train data preprocessing finished\n",
      "600/3200 train data preprocessing finished\n",
      "800/3200 train data preprocessing finished\n",
      "1000/3200 train data preprocessing finished\n",
      "1200/3200 train data preprocessing finished\n",
      "1400/3200 train data preprocessing finished\n",
      "1600/3200 train data preprocessing finished\n",
      "1800/3200 train data preprocessing finished\n",
      "2000/3200 train data preprocessing finished\n",
      "2200/3200 train data preprocessing finished\n",
      "2400/3200 train data preprocessing finished\n",
      "2600/3200 train data preprocessing finished\n",
      "2800/3200 train data preprocessing finished\n",
      "3000/3200 train data preprocessing finished\n",
      "3200/3200 train data preprocessing finished\n",
      "\n",
      "200/400 test data preprocessing finished\n",
      "400/400 test data preprocessing finished\n",
      "600/400 test data preprocessing finished\n",
      "800/400 test data preprocessing finished\n"
     ]
    }
   ],
   "source": [
    "train_X, train_Y, test_X, test_Y = Data(path)"
   ]
  },
  {
   "cell_type": "code",
   "execution_count": 16,
   "metadata": {},
   "outputs": [
    {
     "name": "stdout",
     "output_type": "stream",
     "text": [
      "Model: \"sequential_1\"\n",
      "_________________________________________________________________\n",
      " Layer (type)                Output Shape              Param #   \n",
      "=================================================================\n",
      " conv2d_2 (Conv2D)           (None, 78, 78, 64)        1792      \n",
      "                                                                 \n",
      " max_pooling2d_2 (MaxPooling  (None, 39, 39, 64)       0         \n",
      " 2D)                                                             \n",
      "                                                                 \n",
      " conv2d_3 (Conv2D)           (None, 37, 37, 64)        36928     \n",
      "                                                                 \n",
      " max_pooling2d_3 (MaxPooling  (None, 18, 18, 64)       0         \n",
      " 2D)                                                             \n",
      "                                                                 \n",
      " flatten_1 (Flatten)         (None, 20736)             0         \n",
      "                                                                 \n",
      " dense_2 (Dense)             (None, 64)                1327168   \n",
      "                                                                 \n",
      " dense_3 (Dense)             (None, 1)                 65        \n",
      "                                                                 \n",
      "=================================================================\n",
      "Total params: 1,365,953\n",
      "Trainable params: 1,365,953\n",
      "Non-trainable params: 0\n",
      "_________________________________________________________________\n"
     ]
    }
   ],
   "source": [
    "def Create_CNN():\n",
    "    model=Sequential()\n",
    "    model.add(Conv2D(64, (3, 3), activation='relu', input_shape=(80, 80, 3)))\n",
    "    model.add(MaxPooling2D(pool_size=(2, 2)))\n",
    "    model.add(Conv2D(64, (3, 3), activation='relu'))\n",
    "    model.add(MaxPooling2D(pool_size=(2, 2)))\n",
    "    model.add(Flatten())\n",
    "    model.add(Dense(64, activation='relu'))\n",
    "    model.add(Dense(1, activation='sigmoid'))\n",
    "\n",
    "    model.compile(optimizer=\"adam\", loss='binary_crossentropy', metrics=['accuracy'])\n",
    "    model.summary()\n",
    "\n",
    "    return model\n",
    "\n",
    "model=Create_CNN()"
   ]
  },
  {
   "cell_type": "code",
   "execution_count": 17,
   "metadata": {},
   "outputs": [
    {
     "name": "stdout",
     "output_type": "stream",
     "text": [
      "Epoch 1/10\n",
      "100/100 [==============================] - 17s 161ms/step - loss: 0.7119 - accuracy: 0.4812\n",
      "Epoch 2/10\n",
      "100/100 [==============================] - 17s 168ms/step - loss: 0.6928 - accuracy: 0.5191\n",
      "Epoch 3/10\n",
      "100/100 [==============================] - 16s 164ms/step - loss: 0.6832 - accuracy: 0.5644\n",
      "Epoch 4/10\n",
      "100/100 [==============================] - 16s 162ms/step - loss: 0.6504 - accuracy: 0.6075\n",
      "Epoch 5/10\n",
      "100/100 [==============================] - 16s 160ms/step - loss: 0.5964 - accuracy: 0.6597\n",
      "Epoch 6/10\n",
      "100/100 [==============================] - 16s 161ms/step - loss: 0.4916 - accuracy: 0.7356\n",
      "Epoch 7/10\n",
      "100/100 [==============================] - 16s 161ms/step - loss: 0.3449 - accuracy: 0.8378\n",
      "Epoch 8/10\n",
      "100/100 [==============================] - 16s 162ms/step - loss: 0.2130 - accuracy: 0.9191\n",
      "Epoch 9/10\n",
      "100/100 [==============================] - 16s 163ms/step - loss: 0.1394 - accuracy: 0.9544\n",
      "Epoch 10/10\n",
      "100/100 [==============================] - 16s 162ms/step - loss: 0.0930 - accuracy: 0.9709\n"
     ]
    },
    {
     "data": {
      "text/plain": [
       "<keras.callbacks.History at 0x17b4a659090>"
      ]
     },
     "execution_count": 17,
     "metadata": {},
     "output_type": "execute_result"
    }
   ],
   "source": [
    "model.fit(train_X, train_Y, epochs=10, batch_size=32)"
   ]
  },
  {
   "cell_type": "code",
   "execution_count": 18,
   "metadata": {},
   "outputs": [
    {
     "name": "stdout",
     "output_type": "stream",
     "text": [
      "25/25 [==============================] - 1s 29ms/step\n",
      "Accuracy: 0.495\n"
     ]
    }
   ],
   "source": [
    "predictions=model.predict(test_X)\n",
    "predict_val=[int(round(p[0])) for p in predictions]\n",
    "ac = 0\n",
    "for i in range(800):\n",
    "    if test_Y[i]==predict_val[i]:\n",
    "        ac += 1\n",
    "print(\"Accuracy: {}\".format(ac/800))"
   ]
  }
 ],
 "metadata": {
  "kernelspec": {
   "display_name": "Python 3",
   "language": "python",
   "name": "python3"
  },
  "language_info": {
   "codemirror_mode": {
    "name": "ipython",
    "version": 3
   },
   "file_extension": ".py",
   "mimetype": "text/x-python",
   "name": "python",
   "nbconvert_exporter": "python",
   "pygments_lexer": "ipython3",
   "version": "3.11.0"
  },
  "orig_nbformat": 4
 },
 "nbformat": 4,
 "nbformat_minor": 2
}
