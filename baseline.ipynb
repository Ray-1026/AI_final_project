{
 "cells": [
  {
   "cell_type": "code",
   "execution_count": 6,
   "metadata": {},
   "outputs": [],
   "source": [
    "import os\n",
    "import cv2\n",
    "import numpy as np\n",
    "import matplotlib.pyplot as plt\n",
    "from tqdm import tqdm\n",
    "import tensorflow as tf\n",
    "from tensorflow import keras, config\n",
    "from keras.models import Sequential\n",
    "from keras.layers import Dense, Flatten, Conv2D, MaxPooling2D\n",
    "from keras.preprocessing.image import ImageDataGenerator\n",
    "from sklearn.metrics import classification_report"
   ]
  },
  {
   "cell_type": "code",
   "execution_count": 7,
   "metadata": {},
   "outputs": [],
   "source": [
    "def TrainData():\n",
    "    fake_img = r\"archive\\train\\FAKE\"\n",
    "    real_img = r\"archive\\train\\REAL\"\n",
    "    image = []\n",
    "    label = []\n",
    "\n",
    "    random_fake = np.random.choice(os.listdir(fake_img), 40000, replace=False)\n",
    "    random_real = np.random.choice(os.listdir(real_img), 40000, replace=False)\n",
    "\n",
    "    # Set 0 to represent fake, and 1 to represent real\n",
    "    for path in tqdm(random_fake, desc='Fake Training Data'):\n",
    "        data = cv2.imread(os.path.join(fake_img, path))\n",
    "        image.append(data)\n",
    "        label.append(0)\n",
    "\n",
    "    for path in tqdm(random_real, desc='Real Training Data'):\n",
    "        data = cv2.imread(os.path.join(real_img, path))\n",
    "        image.append(data)\n",
    "        label.append(1)\n",
    "\n",
    "    print()\n",
    "    # image augmantation\n",
    "    image = np.array(image).reshape(-1, 32, 32, 3)\n",
    "    label = np.array(label)\n",
    "    gen_image = []\n",
    "    gen_label = []\n",
    "    gen = ImageDataGenerator(\n",
    "        rotation_range=45,\n",
    "        horizontal_flip=True,\n",
    "        vertical_flip=True,\n",
    "    )\n",
    "    gen.fit(image)\n",
    "\n",
    "    for i, j in gen.flow(image, label, batch_size=200):\n",
    "        gen_image.append(i)\n",
    "        gen_label.append(j)\n",
    "        if len(gen_image)%50==0:\n",
    "            print(f'{len(gen_image)*200}/80000 augmented data generated.')\n",
    "        if len(gen_image)==400:\n",
    "            print('Data augmentation done')\n",
    "            break\n",
    "    image = np.concatenate(gen_image)\n",
    "    label = np.array(gen_label).flatten()\n",
    "\n",
    "    image = np.array(image).reshape(-1, 32, 32, 3)\n",
    "    label = np.array(label)\n",
    "    image = image/255.0\n",
    "\n",
    "    state = np.random.get_state()\n",
    "    np.random.shuffle(image)\n",
    "    np.random.set_state(state)\n",
    "    np.random.shuffle(label)\n",
    "    print('\\nShuffle training data done.\\n')\n",
    "    print(f'Total training data : {len(image)}')\n",
    "    \n",
    "    return image, label"
   ]
  },
  {
   "cell_type": "code",
   "execution_count": 8,
   "metadata": {},
   "outputs": [],
   "source": [
    "def TestData():\n",
    "    fake_path = r\"archive\\test\\FAKE\"\n",
    "    real_path = r\"archive\\test\\REAL\"\n",
    "    image = []\n",
    "    label = []\n",
    "    # Set 0 to represent fake, and 1 to represent real\n",
    "    for path in tqdm(os.listdir(fake_path), desc='Fake Testing Data'):\n",
    "        data = cv2.imread(os.path.join(fake_path, path))\n",
    "        image.append(data)\n",
    "        label.append(0)\n",
    "    \n",
    "    for path in tqdm(os.listdir(real_path), desc='Real Testing Data'):\n",
    "        data = cv2.imread(os.path.join(real_path, path))\n",
    "        image.append(data)\n",
    "        label.append(1)\n",
    "\n",
    "    image=np.array(image).reshape(-1, 32, 32, 3)\n",
    "    image=image/255\n",
    "    label=np.array(label)\n",
    "\n",
    "    return image, label"
   ]
  },
  {
   "cell_type": "code",
   "execution_count": 9,
   "metadata": {},
   "outputs": [],
   "source": [
    "def CNN():\n",
    "    model = Sequential()\n",
    "    model.add(Conv2D(32, (3, 3), activation='relu', input_shape=(32, 32, 3)))\n",
    "    model.add(MaxPooling2D((2, 2)))\n",
    "\n",
    "    model.add(Conv2D(64, (3, 3), activation='relu'))\n",
    "    model.add(MaxPooling2D((2, 2)))\n",
    "\n",
    "    model.add(Flatten())\n",
    "\n",
    "    model.add(Dense(64, activation='relu'))\n",
    "    model.add(Dense(1, activation='sigmoid'))\n",
    "    \n",
    "    model.compile(optimizer='adam', loss='binary_crossentropy', metrics=['accuracy'])\n",
    "    model.summary()\n",
    "    \n",
    "    return model"
   ]
  },
  {
   "cell_type": "code",
   "execution_count": 10,
   "metadata": {},
   "outputs": [
    {
     "name": "stderr",
     "output_type": "stream",
     "text": [
      "Fake Training Data: 100%|██████████| 40000/40000 [00:55<00:00, 716.15it/s]\n",
      "Real Training Data: 100%|██████████| 40000/40000 [02:22<00:00, 280.34it/s]\n"
     ]
    },
    {
     "name": "stdout",
     "output_type": "stream",
     "text": [
      "\n",
      "10000/80000 augmented data generated.\n",
      "20000/80000 augmented data generated.\n",
      "30000/80000 augmented data generated.\n",
      "40000/80000 augmented data generated.\n",
      "50000/80000 augmented data generated.\n",
      "60000/80000 augmented data generated.\n",
      "70000/80000 augmented data generated.\n",
      "80000/80000 augmented data generated.\n",
      "Data augmentation done\n",
      "\n",
      "Shuffle training data done.\n",
      "\n",
      "Total training data : 80000\n"
     ]
    }
   ],
   "source": [
    "train_x, train_y = TrainData()"
   ]
  },
  {
   "cell_type": "code",
   "execution_count": 11,
   "metadata": {},
   "outputs": [
    {
     "name": "stderr",
     "output_type": "stream",
     "text": [
      "Fake Testing Data: 100%|██████████| 10000/10000 [00:59<00:00, 169.16it/s]\n",
      "Real Testing Data: 100%|██████████| 10000/10000 [00:59<00:00, 168.57it/s]\n"
     ]
    }
   ],
   "source": [
    "test_x, test_y = TestData()"
   ]
  },
  {
   "cell_type": "code",
   "execution_count": 12,
   "metadata": {},
   "outputs": [
    {
     "name": "stdout",
     "output_type": "stream",
     "text": [
      "Running on GPU available now\n"
     ]
    }
   ],
   "source": [
    "\"\"\"\n",
    "Tensorflow supports running computations on GPU \n",
    "\n",
    "WARNING : You need to have CUDA, cuDNN, and tensorflow with version lower than 2.11.0, \n",
    "          if not, DON'T execute this cell.\n",
    "\"\"\"\n",
    "physical_devices = config.list_physical_devices('GPU')\n",
    "config.experimental.set_memory_growth(physical_devices[0], True)\n",
    "print('Running on GPU available now')"
   ]
  },
  {
   "cell_type": "code",
   "execution_count": 13,
   "metadata": {},
   "outputs": [
    {
     "name": "stdout",
     "output_type": "stream",
     "text": [
      "Model: \"sequential\"\n",
      "_________________________________________________________________\n",
      " Layer (type)                Output Shape              Param #   \n",
      "=================================================================\n",
      " conv2d (Conv2D)             (None, 30, 30, 32)        896       \n",
      "                                                                 \n",
      " max_pooling2d (MaxPooling2D  (None, 15, 15, 32)       0         \n",
      " )                                                               \n",
      "                                                                 \n",
      " conv2d_1 (Conv2D)           (None, 13, 13, 64)        18496     \n",
      "                                                                 \n",
      " max_pooling2d_1 (MaxPooling  (None, 6, 6, 64)         0         \n",
      " 2D)                                                             \n",
      "                                                                 \n",
      " flatten (Flatten)           (None, 2304)              0         \n",
      "                                                                 \n",
      " dense (Dense)               (None, 64)                147520    \n",
      "                                                                 \n",
      " dense_1 (Dense)             (None, 1)                 65        \n",
      "                                                                 \n",
      "=================================================================\n",
      "Total params: 166,977\n",
      "Trainable params: 166,977\n",
      "Non-trainable params: 0\n",
      "_________________________________________________________________\n"
     ]
    }
   ],
   "source": [
    "model = CNN()"
   ]
  },
  {
   "cell_type": "code",
   "execution_count": 14,
   "metadata": {},
   "outputs": [
    {
     "name": "stdout",
     "output_type": "stream",
     "text": [
      "Epoch 1/20\n",
      "400/400 [==============================] - 9s 9ms/step - loss: 0.4777 - accuracy: 0.7640 - val_loss: 0.5686 - val_accuracy: 0.7560\n",
      "Epoch 2/20\n",
      "400/400 [==============================] - 3s 8ms/step - loss: 0.3672 - accuracy: 0.8377 - val_loss: 0.5590 - val_accuracy: 0.7786\n",
      "Epoch 3/20\n",
      "400/400 [==============================] - 3s 8ms/step - loss: 0.3327 - accuracy: 0.8570 - val_loss: 0.4953 - val_accuracy: 0.7951\n",
      "Epoch 4/20\n",
      "400/400 [==============================] - 3s 8ms/step - loss: 0.2992 - accuracy: 0.8728 - val_loss: 0.4780 - val_accuracy: 0.8076\n",
      "Epoch 5/20\n",
      "400/400 [==============================] - 3s 8ms/step - loss: 0.2768 - accuracy: 0.8846 - val_loss: 0.4360 - val_accuracy: 0.8285\n",
      "Epoch 6/20\n",
      "400/400 [==============================] - 3s 8ms/step - loss: 0.2648 - accuracy: 0.8897 - val_loss: 0.4198 - val_accuracy: 0.8327\n",
      "Epoch 7/20\n",
      "400/400 [==============================] - 3s 8ms/step - loss: 0.2400 - accuracy: 0.9016 - val_loss: 0.3365 - val_accuracy: 0.8651\n",
      "Epoch 8/20\n",
      "400/400 [==============================] - 3s 8ms/step - loss: 0.2347 - accuracy: 0.9031 - val_loss: 0.3063 - val_accuracy: 0.8772\n",
      "Epoch 9/20\n",
      "400/400 [==============================] - 3s 8ms/step - loss: 0.2254 - accuracy: 0.9075 - val_loss: 0.4626 - val_accuracy: 0.8181\n",
      "Epoch 10/20\n",
      "400/400 [==============================] - 3s 8ms/step - loss: 0.2180 - accuracy: 0.9126 - val_loss: 0.6694 - val_accuracy: 0.7696\n",
      "Epoch 11/20\n",
      "400/400 [==============================] - 3s 8ms/step - loss: 0.2092 - accuracy: 0.9146 - val_loss: 0.2967 - val_accuracy: 0.8837\n",
      "Epoch 12/20\n",
      "400/400 [==============================] - 3s 8ms/step - loss: 0.1994 - accuracy: 0.9187 - val_loss: 0.4002 - val_accuracy: 0.8485\n",
      "Epoch 13/20\n",
      "400/400 [==============================] - 3s 8ms/step - loss: 0.1978 - accuracy: 0.9200 - val_loss: 0.4269 - val_accuracy: 0.8399\n",
      "Epoch 14/20\n",
      "400/400 [==============================] - 3s 8ms/step - loss: 0.1880 - accuracy: 0.9243 - val_loss: 0.4227 - val_accuracy: 0.8422\n",
      "Epoch 15/20\n",
      "400/400 [==============================] - 3s 8ms/step - loss: 0.1849 - accuracy: 0.9259 - val_loss: 0.3827 - val_accuracy: 0.8559\n",
      "Epoch 16/20\n",
      "400/400 [==============================] - 3s 8ms/step - loss: 0.1774 - accuracy: 0.9289 - val_loss: 0.3410 - val_accuracy: 0.8691\n",
      "Epoch 17/20\n",
      "400/400 [==============================] - 3s 8ms/step - loss: 0.1726 - accuracy: 0.9307 - val_loss: 0.5386 - val_accuracy: 0.8027\n",
      "Epoch 18/20\n",
      "400/400 [==============================] - 3s 8ms/step - loss: 0.1681 - accuracy: 0.9326 - val_loss: 0.3817 - val_accuracy: 0.8601\n",
      "Epoch 19/20\n",
      "400/400 [==============================] - 3s 8ms/step - loss: 0.1618 - accuracy: 0.9353 - val_loss: 0.5299 - val_accuracy: 0.8061\n",
      "Epoch 20/20\n",
      "400/400 [==============================] - 3s 8ms/step - loss: 0.1545 - accuracy: 0.9381 - val_loss: 0.3072 - val_accuracy: 0.8836\n"
     ]
    }
   ],
   "source": [
    "history = model.fit(train_x, train_y, epochs=20, batch_size=200, validation_data=(test_x, test_y))"
   ]
  },
  {
   "cell_type": "code",
   "execution_count": 15,
   "metadata": {},
   "outputs": [
    {
     "name": "stdout",
     "output_type": "stream",
     "text": [
      "625/625 [==============================] - 1s 1ms/step\n"
     ]
    }
   ],
   "source": [
    "predicted = model.predict(test_x)"
   ]
  },
  {
   "cell_type": "code",
   "execution_count": 16,
   "metadata": {},
   "outputs": [
    {
     "data": {
      "image/png": "[encoded data removed]",
      "text/plain": [
       "<Figure size 640x480 with 1 Axes>"
      ]
     },
     "metadata": {},
     "output_type": "display_data"
    },
    {
     "data": {
      "image/png": "[encoded data removed]",
      "text/plain": [
       "<Figure size 640x480 with 1 Axes>"
      ]
     },
     "metadata": {},
     "output_type": "display_data"
    }
   ],
   "source": [
    "# Plot the loss and accuracy of training set.\n",
    "plt.plot(history.history['accuracy'])\n",
    "plt.plot(history.history['val_accuracy'])\n",
    "plt.xticks(range(0, 21, 1))\n",
    "plt.ylim(0, 1)\n",
    "plt.title('Model Accuracy')\n",
    "plt.ylabel('Accuracy')\n",
    "plt.xlabel('Epoch')\n",
    "plt.legend(['train', 'test'], loc='lower right')\n",
    "plt.show()\n",
    "\n",
    "plt.plot(history.history['loss'])\n",
    "plt.plot(history.history['val_loss'])\n",
    "plt.xticks(range(0, 21, 1))\n",
    "plt.ylim(0, 1)\n",
    "plt.title('Model Loss')\n",
    "plt.ylabel('Loss')\n",
    "plt.xlabel('Epoch')\n",
    "plt.legend(['train', 'test'], loc='upper right')\n",
    "plt.show()"
   ]
  },
  {
   "cell_type": "code",
   "execution_count": 17,
   "metadata": {},
   "outputs": [
    {
     "name": "stdout",
     "output_type": "stream",
     "text": [
      "\n",
      "Classification Report:\n",
      "----------------------\n",
      "               precision    recall  f1-score   support\n",
      "\n",
      "           0       0.82      0.98      0.89     10000\n",
      "           1       0.97      0.79      0.87     10000\n",
      "\n",
      "    accuracy                           0.88     20000\n",
      "   macro avg       0.90      0.88      0.88     20000\n",
      "weighted avg       0.90      0.88      0.88     20000\n",
      "\n"
     ]
    }
   ],
   "source": [
    "predicted = [int(round(i[0])) for i in predicted]\n",
    "print('\\nClassification Report:\\n----------------------\\n', classification_report(test_y, predicted))"
   ]
  },
  {
   "cell_type": "code",
   "execution_count": 18,
   "metadata": {},
   "outputs": [],
   "source": [
    "# Save Model\n",
    "model.save('Models/CNN.h5')"
   ]
  }
 ],
 "metadata": {
  "kernelspec": {
   "display_name": "Python 3",
   "language": "python",
   "name": "python3"
  },
  "language_info": {
   "codemirror_mode": {
    "name": "ipython",
    "version": 3
   },
   "file_extension": ".py",
   "mimetype": "text/x-python",
   "name": "python",
   "nbconvert_exporter": "python",
   "pygments_lexer": "ipython3",
   "version": "3.9.4"
  },
  "orig_nbformat": 4
 },
 "nbformat": 4,
 "nbformat_minor": 2
}
