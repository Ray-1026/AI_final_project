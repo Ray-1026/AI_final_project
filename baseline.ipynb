{
 "cells": [
  {
   "cell_type": "code",
   "execution_count": 39,
   "metadata": {},
   "outputs": [],
   "source": [
    "import os\n",
    "import cv2\n",
    "import numpy as np\n",
    "import matplotlib.pyplot as plt\n",
    "from tqdm import tqdm\n",
    "import tensorflow as tf\n",
    "from tensorflow import keras, config\n",
    "from keras.models import Sequential\n",
    "from keras.layers import Dense, Flatten, Conv2D, MaxPooling2D\n",
    "from keras.preprocessing.image import ImageDataGenerator\n",
    "from sklearn.metrics import classification_report"
   ]
  },
  {
   "cell_type": "code",
   "execution_count": 40,
   "metadata": {},
   "outputs": [],
   "source": [
    "def TrainData():\n",
    "    fake_img = r\"archive\\train\\FAKE\"\n",
    "    real_img = r\"archive\\train\\REAL\"\n",
    "    image = []\n",
    "    label = []\n",
    "\n",
    "    random_fake = np.random.choice(os.listdir(fake_img), 40000, replace=False)\n",
    "    random_real = np.random.choice(os.listdir(real_img), 40000, replace=False)\n",
    "\n",
    "    # Set 0 to represent fake, and 1 to represent real\n",
    "    for path in tqdm(random_fake, desc='Fake Training Data'):\n",
    "        data = cv2.imread(os.path.join(fake_img, path))\n",
    "        image.append(data)\n",
    "        label.append(0)\n",
    "\n",
    "    for path in tqdm(random_real, desc='Real Training Data'):\n",
    "        data = cv2.imread(os.path.join(real_img, path))\n",
    "        image.append(data)\n",
    "        label.append(1)\n",
    "\n",
    "    print()\n",
    "    # image augmantation\n",
    "    image = np.array(image).reshape(-1, 32, 32, 3)\n",
    "    label = np.array(label)\n",
    "    gen_image = []\n",
    "    gen_label = []\n",
    "    gen = ImageDataGenerator(\n",
    "        rotation_range=45,\n",
    "        horizontal_flip=True,\n",
    "        vertical_flip=True,\n",
    "    )\n",
    "    gen.fit(image)\n",
    "\n",
    "    for i, j in gen.flow(image, label, batch_size=200):\n",
    "        gen_image.append(i)\n",
    "        gen_label.append(j)\n",
    "        if len(gen_image)%50==0:\n",
    "            print(f'{len(gen_image)*200}/80000 augmented data generated.')\n",
    "        if len(gen_image)==400:\n",
    "            print('Data augmentation done')\n",
    "            break\n",
    "    image = np.concatenate(gen_image)\n",
    "    label = np.array(gen_label).flatten()\n",
    "\n",
    "    image = np.array(image).reshape(-1, 32, 32, 3)\n",
    "    label = np.array(label)\n",
    "    image = image/255.0\n",
    "\n",
    "    state = np.random.get_state()\n",
    "    np.random.shuffle(image)\n",
    "    np.random.set_state(state)\n",
    "    np.random.shuffle(label)\n",
    "    print('\\nShuffle training data done.\\n')\n",
    "    print(f'Total training data : {len(image)}')\n",
    "    \n",
    "    return image, label"
   ]
  },
  {
   "cell_type": "code",
   "execution_count": 41,
   "metadata": {},
   "outputs": [],
   "source": [
    "def TestData():\n",
    "    fake_path = r\"archive\\test\\FAKE\"\n",
    "    real_path = r\"archive\\test\\REAL\"\n",
    "    image = []\n",
    "    label = []\n",
    "    # Set 0 to represent fake, and 1 to represent real\n",
    "    for path in tqdm(os.listdir(fake_path), desc='Fake Testing Data'):\n",
    "        data = cv2.imread(os.path.join(fake_path, path))\n",
    "        image.append(data)\n",
    "        label.append(0)\n",
    "    \n",
    "    for path in tqdm(os.listdir(real_path), desc='Real Testing Data'):\n",
    "        data = cv2.imread(os.path.join(real_path, path))\n",
    "        image.append(data)\n",
    "        label.append(1)\n",
    "\n",
    "    image=np.array(image).reshape(-1, 32, 32, 3)\n",
    "    image=image/255\n",
    "    label=np.array(label)\n",
    "\n",
    "    return image, label"
   ]
  },
  {
   "cell_type": "code",
   "execution_count": 42,
   "metadata": {},
   "outputs": [],
   "source": [
    "def CNN():\n",
    "    model = Sequential()\n",
    "    model.add(Conv2D(32, (3, 3), activation='relu', input_shape=(32, 32, 3)))\n",
    "    model.add(MaxPooling2D((2, 2)))\n",
    "\n",
    "    model.add(Conv2D(64, (3, 3), activation='relu'))\n",
    "    model.add(MaxPooling2D((2, 2)))\n",
    "\n",
    "    model.add(Flatten())\n",
    "\n",
    "    model.add(Dense(64, activation='relu'))\n",
    "    model.add(Dense(1, activation='sigmoid'))\n",
    "    \n",
    "    model.compile(optimizer='adam', loss='binary_crossentropy', metrics=['accuracy'])\n",
    "    model.summary()\n",
    "    \n",
    "    return model"
   ]
  },
  {
   "cell_type": "code",
   "execution_count": 43,
   "metadata": {},
   "outputs": [
    {
     "name": "stderr",
     "output_type": "stream",
     "text": [
      "Fake Training Data: 100%|██████████| 40000/40000 [03:55<00:00, 169.51it/s]\n",
      "Real Training Data: 100%|██████████| 40000/40000 [04:25<00:00, 150.67it/s]\n"
     ]
    },
    {
     "name": "stdout",
     "output_type": "stream",
     "text": [
      "\n",
      "10000/80000 augmented data generated.\n",
      "20000/80000 augmented data generated.\n",
      "30000/80000 augmented data generated.\n",
      "40000/80000 augmented data generated.\n",
      "50000/80000 augmented data generated.\n",
      "60000/80000 augmented data generated.\n",
      "70000/80000 augmented data generated.\n",
      "80000/80000 augmented data generated.\n",
      "Data augmentation done\n",
      "\n",
      "Shuffle training data done.\n",
      "\n",
      "Total training data : 80000\n"
     ]
    }
   ],
   "source": [
    "train_x, train_y = TrainData()"
   ]
  },
  {
   "cell_type": "code",
   "execution_count": 44,
   "metadata": {},
   "outputs": [
    {
     "name": "stderr",
     "output_type": "stream",
     "text": [
      "Fake Testing Data: 100%|██████████| 10000/10000 [01:02<00:00, 160.79it/s]\n",
      "Real Testing Data: 100%|██████████| 10000/10000 [00:57<00:00, 173.64it/s]\n"
     ]
    }
   ],
   "source": [
    "test_x, test_y = TestData()"
   ]
  },
  {
   "cell_type": "code",
   "execution_count": 45,
   "metadata": {},
   "outputs": [
    {
     "name": "stdout",
     "output_type": "stream",
     "text": [
      "Running on GPU available now\n"
     ]
    }
   ],
   "source": [
    "\"\"\"\n",
    "Tensorflow supports running computations on GPU \n",
    "\n",
    "WARNING : You need to have CUDA, cuDNN, and tensorflow with version lower than 2.11.0, \n",
    "          if not, DON'T execute this cell.\n",
    "\"\"\"\n",
    "physical_devices = config.list_physical_devices('GPU')\n",
    "config.experimental.set_memory_growth(physical_devices[0], True)\n",
    "print('Running on GPU available now')"
   ]
  },
  {
   "cell_type": "code",
   "execution_count": 46,
   "metadata": {},
   "outputs": [
    {
     "name": "stdout",
     "output_type": "stream",
     "text": [
      "Model: \"sequential_1\"\n",
      "_________________________________________________________________\n",
      " Layer (type)                Output Shape              Param #   \n",
      "=================================================================\n",
      " conv2d_2 (Conv2D)           (None, 30, 30, 32)        896       \n",
      "                                                                 \n",
      " max_pooling2d_2 (MaxPooling  (None, 15, 15, 32)       0         \n",
      " 2D)                                                             \n",
      "                                                                 \n",
      " conv2d_3 (Conv2D)           (None, 13, 13, 64)        18496     \n",
      "                                                                 \n",
      " max_pooling2d_3 (MaxPooling  (None, 6, 6, 64)         0         \n",
      " 2D)                                                             \n",
      "                                                                 \n",
      " flatten_1 (Flatten)         (None, 2304)              0         \n",
      "                                                                 \n",
      " dense_2 (Dense)             (None, 64)                147520    \n",
      "                                                                 \n",
      " dense_3 (Dense)             (None, 1)                 65        \n",
      "                                                                 \n",
      "=================================================================\n",
      "Total params: 166,977\n",
      "Trainable params: 166,977\n",
      "Non-trainable params: 0\n",
      "_________________________________________________________________\n"
     ]
    }
   ],
   "source": [
    "model = CNN()"
   ]
  },
  {
   "cell_type": "code",
   "execution_count": 47,
   "metadata": {},
   "outputs": [
    {
     "name": "stdout",
     "output_type": "stream",
     "text": [
      "Epoch 1/20\n",
      "400/400 [==============================] - 4s 8ms/step - loss: 0.4682 - accuracy: 0.7733 - val_loss: 0.6222 - val_accuracy: 0.7311\n",
      "Epoch 2/20\n",
      "400/400 [==============================] - 3s 8ms/step - loss: 0.3685 - accuracy: 0.8375 - val_loss: 0.5613 - val_accuracy: 0.7649\n",
      "Epoch 3/20\n",
      "400/400 [==============================] - 3s 8ms/step - loss: 0.3128 - accuracy: 0.8665 - val_loss: 0.4086 - val_accuracy: 0.8342\n",
      "Epoch 4/20\n",
      "400/400 [==============================] - 3s 8ms/step - loss: 0.2883 - accuracy: 0.8795 - val_loss: 0.7014 - val_accuracy: 0.7446\n",
      "Epoch 5/20\n",
      "400/400 [==============================] - 3s 8ms/step - loss: 0.2662 - accuracy: 0.8882 - val_loss: 0.5489 - val_accuracy: 0.8052\n",
      "Epoch 6/20\n",
      "400/400 [==============================] - 3s 8ms/step - loss: 0.2490 - accuracy: 0.8969 - val_loss: 0.3454 - val_accuracy: 0.8632\n",
      "Epoch 7/20\n",
      "400/400 [==============================] - 3s 8ms/step - loss: 0.2427 - accuracy: 0.9002 - val_loss: 0.6424 - val_accuracy: 0.7623\n",
      "Epoch 8/20\n",
      "400/400 [==============================] - 3s 8ms/step - loss: 0.2267 - accuracy: 0.9084 - val_loss: 0.4834 - val_accuracy: 0.8204\n",
      "Epoch 9/20\n",
      "400/400 [==============================] - 3s 8ms/step - loss: 0.2151 - accuracy: 0.9114 - val_loss: 0.3911 - val_accuracy: 0.8500\n",
      "Epoch 10/20\n",
      "400/400 [==============================] - 3s 8ms/step - loss: 0.2093 - accuracy: 0.9144 - val_loss: 0.3829 - val_accuracy: 0.8555\n",
      "Epoch 11/20\n",
      "400/400 [==============================] - 3s 8ms/step - loss: 0.2018 - accuracy: 0.9192 - val_loss: 0.4917 - val_accuracy: 0.8224\n",
      "Epoch 12/20\n",
      "400/400 [==============================] - 3s 8ms/step - loss: 0.1976 - accuracy: 0.9204 - val_loss: 0.4013 - val_accuracy: 0.8598\n",
      "Epoch 13/20\n",
      "400/400 [==============================] - 3s 8ms/step - loss: 0.1887 - accuracy: 0.9236 - val_loss: 0.4356 - val_accuracy: 0.8400\n",
      "Epoch 14/20\n",
      "400/400 [==============================] - 3s 8ms/step - loss: 0.1815 - accuracy: 0.9268 - val_loss: 0.4827 - val_accuracy: 0.8302\n",
      "Epoch 15/20\n",
      "400/400 [==============================] - 3s 8ms/step - loss: 0.1781 - accuracy: 0.9278 - val_loss: 0.4819 - val_accuracy: 0.8321\n",
      "Epoch 16/20\n",
      "400/400 [==============================] - 3s 8ms/step - loss: 0.1717 - accuracy: 0.9301 - val_loss: 0.3202 - val_accuracy: 0.8838\n",
      "Epoch 17/20\n",
      "400/400 [==============================] - 3s 8ms/step - loss: 0.1653 - accuracy: 0.9341 - val_loss: 0.5173 - val_accuracy: 0.8288\n",
      "Epoch 18/20\n",
      "400/400 [==============================] - 3s 8ms/step - loss: 0.1577 - accuracy: 0.9368 - val_loss: 0.4833 - val_accuracy: 0.8327\n",
      "Epoch 19/20\n",
      "400/400 [==============================] - 3s 8ms/step - loss: 0.1518 - accuracy: 0.9398 - val_loss: 0.5246 - val_accuracy: 0.8309\n",
      "Epoch 20/20\n",
      "400/400 [==============================] - 3s 8ms/step - loss: 0.1478 - accuracy: 0.9410 - val_loss: 0.5111 - val_accuracy: 0.8260\n"
     ]
    }
   ],
   "source": [
    "history = model.fit(train_x, train_y, epochs=20, batch_size=200, validation_data=(test_x, test_y))"
   ]
  },
  {
   "cell_type": "code",
   "execution_count": 48,
   "metadata": {},
   "outputs": [
    {
     "name": "stdout",
     "output_type": "stream",
     "text": [
      "625/625 [==============================] - 1s 2ms/step\n"
     ]
    }
   ],
   "source": [
    "predicted = model.predict(test_x)"
   ]
  },
  {
   "cell_type": "code",
   "execution_count": 49,
   "metadata": {},
   "outputs": [
    {
     "data": {
      "image/png": "[encoded data removed]",
      "text/plain": [
       "<Figure size 640x480 with 1 Axes>"
      ]
     },
     "metadata": {},
     "output_type": "display_data"
    },
    {
     "data": {
      "image/png": "[encoded data removed]",
      "text/plain": [
       "<Figure size 640x480 with 1 Axes>"
      ]
     },
     "metadata": {},
     "output_type": "display_data"
    }
   ],
   "source": [
    "# Plot the loss and accuracy of training set.\n",
    "plt.plot(history.history['accuracy'])\n",
    "plt.plot(history.history['val_accuracy'])\n",
    "plt.xticks(range(0, 21, 1))\n",
    "plt.ylim(0, 1)\n",
    "plt.title('Model Loss')\n",
    "plt.ylabel('Accuracy')\n",
    "plt.xlabel('Epoch')\n",
    "plt.legend(['train', 'test'], loc='lower right')\n",
    "plt.show()\n",
    "\n",
    "plt.plot(history.history['loss'])\n",
    "plt.plot(history.history['val_loss'])\n",
    "plt.xticks(range(0, 21, 1))\n",
    "plt.ylim(0, 1)\n",
    "plt.title('Model Accuracy')\n",
    "plt.ylabel('Accuracy')\n",
    "plt.xlabel('Epoch')\n",
    "plt.legend(['train', 'test'], loc='upper right')\n",
    "plt.show()"
   ]
  },
  {
   "cell_type": "code",
   "execution_count": 50,
   "metadata": {},
   "outputs": [
    {
     "name": "stdout",
     "output_type": "stream",
     "text": [
      "\n",
      "Classification Report:\n",
      "----------------------\n",
      "               precision    recall  f1-score   support\n",
      "\n",
      "           0       0.75      0.99      0.85     10000\n",
      "           1       0.99      0.66      0.79     10000\n",
      "\n",
      "    accuracy                           0.83     20000\n",
      "   macro avg       0.87      0.83      0.82     20000\n",
      "weighted avg       0.87      0.83      0.82     20000\n",
      "\n"
     ]
    }
   ],
   "source": [
    "predicted = [int(round(i[0])) for i in predicted]\n",
    "print('\\nClassification Report:\\n----------------------\\n', classification_report(test_y, predicted))"
   ]
  },
  {
   "cell_type": "code",
   "execution_count": 51,
   "metadata": {},
   "outputs": [],
   "source": [
    "# Save Model\n",
    "model.save('Models/CNN.h5')"
   ]
  }
 ],
 "metadata": {
  "kernelspec": {
   "display_name": "Python 3",
   "language": "python",
   "name": "python3"
  },
  "language_info": {
   "codemirror_mode": {
    "name": "ipython",
    "version": 3
   },
   "file_extension": ".py",
   "mimetype": "text/x-python",
   "name": "python",
   "nbconvert_exporter": "python",
   "pygments_lexer": "ipython3",
   "version": "3.9.4"
  },
  "orig_nbformat": 4
 },
 "nbformat": 4,
 "nbformat_minor": 2
}
